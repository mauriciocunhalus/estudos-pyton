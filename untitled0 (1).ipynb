{
  "nbformat": 4,
  "nbformat_minor": 0,
  "metadata": {
    "colab": {
      "provenance": []
    },
    "kernelspec": {
      "name": "python3",
      "display_name": "Python 3"
    },
    "language_info": {
      "name": "python"
    }
  },
  "cells": [
    {
      "cell_type": "code",
      "execution_count": 1,
      "metadata": {
        "colab": {
          "base_uri": "https://localhost:8080/"
        },
        "id": "ipv_ZZF0zYPi",
        "outputId": "bc918884-0f36-48aa-8922-9796f16b2cd4"
      },
      "outputs": [
        {
          "output_type": "stream",
          "name": "stdout",
          "text": [
            "<class 'int'>\n"
          ]
        }
      ],
      "source": [
        "# ETE CÍCERO DIAS\n",
        "# DOCENTE : Maurício Cunha\n",
        "# ESTUDANTE: ?\n",
        "# print('Maurício')\n",
        "# tipos primitivos De dados\n",
        "c = 10\n",
        "print(type(c))\n"
      ]
    }
  ]
}