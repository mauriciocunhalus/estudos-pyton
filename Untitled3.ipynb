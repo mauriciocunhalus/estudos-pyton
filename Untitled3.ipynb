{
  "nbformat": 4,
  "nbformat_minor": 0,
  "metadata": {
    "colab": {
      "provenance": [],
      "authorship_tag": "ABX9TyP8IpkcWghLNawkX8UhPtJN",
      "include_colab_link": true
    },
    "kernelspec": {
      "name": "python3",
      "display_name": "Python 3"
    },
    "language_info": {
      "name": "python"
    }
  },
  "cells": [
    {
      "cell_type": "markdown",
      "metadata": {
        "id": "view-in-github",
        "colab_type": "text"
      },
      "source": [
        "<a href=\"https://colab.research.google.com/github/mauriciocunhalus/estudos-pyton/blob/main/Untitled3.ipynb\" target=\"_parent\"><img src=\"https://colab.research.google.com/assets/colab-badge.svg\" alt=\"Open In Colab\"/></a>"
      ]
    },
    {
      "cell_type": "code",
      "execution_count": 4,
      "metadata": {
        "colab": {
          "base_uri": "https://localhost:8080/"
        },
        "id": "r9xR6az3yii3",
        "outputId": "63693f1c-fed9-4441-a6d3-762ab39c5a8e"
      },
      "outputs": [
        {
          "output_type": "stream",
          "name": "stdout",
          "text": [
            "O Código 0012, nome Maurício Cunha emissão o medicamento dipirona.\n",
            "Maurício\n",
            "048.619.594-54\n",
            "22/09/1983\n",
            "mauriciocunhalus@hotmail.com\n",
            "1234\n",
            "Meu computador dentro placa de mãe GigaByte, processador Intel Core 5, memória RAM 4GB, disco rigido 500GB, fonte de energia 750w.\n",
            "Meu carro é Nissan, modelo e versa, tenho 4 portas, cor prata, motor é 1.6.\n"
          ]
        }
      ],
      "source": [
        "\n",
        "# DOCENTE: Prof. MSc. Cloves\n",
        "# AULA X: Python Noções OO\n",
        "# Estudante: Maurício Cunha\n",
        "\n",
        "\n",
        "\n",
        "class Medico:\n",
        "  def __init__(self, codigo,paciente, medicamento):\n",
        "    self.codigo = codigo\n",
        "    self.paciente = paciente\n",
        "    self.medicamento = medicamento\n",
        "\n",
        "  def sala_de_medicamento(self):\n",
        "    return f\"O Código {self.codigo}, nome {self.paciente} emissão o medicamento {self.medicamento}.\"\n",
        "\n",
        "pessoa = Medico('0012','Maurício Cunha','dipirona')\n",
        "\n",
        "print(pessoa.sala_de_medicamento())\n",
        "\n",
        "\n",
        "\n",
        "class Cadastro:\n",
        "  def __init__(self, nome, cpf,data_de_nascimento, email, senha):\n",
        "     self.nome = nome\n",
        "     self.cpf = cpf\n",
        "     self.data_de_nascimento = data_de_nascimento\n",
        "     self.email = email\n",
        "     self. senha = senha\n",
        "\n",
        "  def banco_de_dados(self):\n",
        "    return f\"{self.nome}{self.cpf}{self.data_de_nascimento}{self.email}{self.senha}\"\n",
        "\n",
        "pessoa = Cadastro('Maurício' , '048.619.594-54', '22/09/1983','mauriciocunhalus@hotmail.com', 1234)\n",
        "\n",
        "print(pessoa.nome)\n",
        "print(pessoa.cpf)\n",
        "print(pessoa.data_de_nascimento)\n",
        "print(pessoa.email)\n",
        "print(pessoa.senha)\n",
        "\n",
        "\n",
        "\n",
        "class Hardware:\n",
        "  def __init__(self,placa,processador,memoria,hd,fonte):\n",
        "    self.placa = placa\n",
        "    self.processador = processador\n",
        "    self.memoria = memoria\n",
        "    self.hd = hd\n",
        "    self.fonte = fonte\n",
        "\n",
        "  def dentro(self):\n",
        "    return f\"Meu computador dentro placa de mãe {self.placa}, processador {self.processador}, memória {self.memoria}, disco rigido {self.hd}, fonte de energia {self.fonte}.\"\n",
        "\n",
        "hardware = Hardware('GigaByte','Intel Core 5','RAM 4GB','500GB','750w')\n",
        "\n",
        "print(hardware.dentro())\n",
        "\n",
        "\n",
        "\n",
        "\n",
        "class Carro:\n",
        "  def __init__(self,marca, modelo, portas,cor, motor):\n",
        "    self.marca = marca\n",
        "    self.modelo = modelo\n",
        "    self.portas = portas\n",
        "    self.cor = cor\n",
        "    self.motor = motor\n",
        "\n",
        "  def apresentar(self):\n",
        "      return f\"Meu carro é {self.marca}, modelo e {self.modelo}, tenho {self.portas} portas, cor {self.cor}, motor é {self.motor}.\"\n",
        "\n",
        "pessoa1 = Carro('Nissan','versa', 4 ,'prata',1.6)\n",
        "\n",
        "print(pessoa1.apresentar())\n",
        "\n"
      ]
    }
  ]
}