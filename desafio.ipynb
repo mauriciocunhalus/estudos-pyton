{
  "nbformat": 4,
  "nbformat_minor": 0,
  "metadata": {
    "colab": {
      "provenance": [],
      "authorship_tag": "ABX9TyPhKAg9HH5sbKFixIsafGz3",
      "include_colab_link": true
    },
    "kernelspec": {
      "name": "python3",
      "display_name": "Python 3"
    },
    "language_info": {
      "name": "python"
    }
  },
  "cells": [
    {
      "cell_type": "markdown",
      "metadata": {
        "id": "view-in-github",
        "colab_type": "text"
      },
      "source": [
        "<a href=\"https://colab.research.google.com/github/mauriciocunhalus/estudos-pyton/blob/main/desafio.ipynb\" target=\"_parent\"><img src=\"https://colab.research.google.com/assets/colab-badge.svg\" alt=\"Open In Colab\"/></a>"
      ]
    },
    {
      "cell_type": "code",
      "execution_count": 1,
      "metadata": {
        "id": "70mbwPn5BKb-",
        "outputId": "8bc35bcb-188b-43d2-bc4a-485fa1293893",
        "colab": {
          "base_uri": "https://localhost:8080/"
        }
      },
      "outputs": [
        {
          "output_type": "stream",
          "name": "stdout",
          "text": [
            "Olá ETE CÍCERO DIAS!\n"
          ]
        }
      ],
      "source": [
        "# ETE CÍCERO DIAS\n",
        "# DOCENTE: MAURÍCIO CUNHA\n",
        "# ESTUDANTE: MAURÍCIO CUNHA\n",
        "# PNT - TIPOS PRIMITIVOS DE DADOS\n",
        "print('Olá ETE CÍCERO DIAS!')\n",
        "#QUESTÃO 1\n"
      ]
    },
    {
      "cell_type": "code",
      "source": [
        "# Solicita um número ao usuário\n",
        "numero = input(\"Digite um número: \")\n",
        "\n",
        "# Exibe a mensagem com o número informado\n",
        "print(f\"O número informado foi {numero}\")"
      ],
      "metadata": {
        "colab": {
          "base_uri": "https://localhost:8080/"
        },
        "id": "9xD_nKZTYHI0",
        "outputId": "6c127c78-d476-4a96-b1da-2e7d9f1277e4"
      },
      "execution_count": 2,
      "outputs": [
        {
          "output_type": "stream",
          "name": "stdout",
          "text": [
            "Digite um número: 9\n",
            "O número informado foi 9\n"
          ]
        }
      ]
    },
    {
      "cell_type": "code",
      "source": [
        "# Solicita dois números ao usuário\n",
        "numero1 = float(input(\"Digite o primeiro número: \"))\n",
        "numero2 = float(input(\"Digite o segundo número: \"))\n",
        "\n",
        "# Calcula a soma dos dois números\n",
        "soma = numero1 + numero2\n",
        "\n",
        "# Exibe o resultado da soma\n",
        "print(f\"A soma de {numero1} e {numero2} é igual a {soma}\")"
      ],
      "metadata": {
        "colab": {
          "base_uri": "https://localhost:8080/"
        },
        "id": "T4B2GhUQXrHn",
        "outputId": "2457a28c-a9df-4b53-d69b-3029596b11d2"
      },
      "execution_count": 3,
      "outputs": [
        {
          "output_type": "stream",
          "name": "stdout",
          "text": [
            "Digite o primeiro número: 2\n",
            "Digite o segundo número: 2\n",
            "A soma de 2.0 e 2.0 é igual a 4.0\n"
          ]
        }
      ]
    },
    {
      "cell_type": "code",
      "source": [
        "# Solicita as notas bimestrais ao usuário\n",
        "nota1 = float(input(\"Digite a nota do 1º bimestre: \"))\n",
        "nota2 = float(input(\"Digite a nota do 2º bimestre: \"))\n",
        "nota3 = float(input(\"Digite a nota do 3º bimestre: \"))\n",
        "nota4 = float(input(\"Digite a nota do 4º bimestre: \"))\n",
        "\n",
        "# Calcula a média final\n",
        "media = (nota1 + nota2 + nota3 + nota4) / 4\n",
        "\n",
        "# Exibe a média final\n",
        "print(f\"A média final das notas é: {media}\")"
      ],
      "metadata": {
        "colab": {
          "base_uri": "https://localhost:8080/"
        },
        "id": "F9XOBh6OX7sN",
        "outputId": "22e7c3d6-3f77-4d16-d5d2-55c251e10521"
      },
      "execution_count": 4,
      "outputs": [
        {
          "output_type": "stream",
          "name": "stdout",
          "text": [
            "Digite a nota do 1º bimestre: 8\n",
            "Digite a nota do 2º bimestre: 7\n",
            "Digite a nota do 3º bimestre: 9\n",
            "Digite a nota do 4º bimestre: 4\n",
            "A média final das notas é: 7.0\n"
          ]
        }
      ]
    },
    {
      "cell_type": "code",
      "source": [
        "# Solicita a entrada em metros\n",
        "metros = float(input(\"Digite a medida em metros: \"))\n",
        "\n",
        "# Converte metros para centímetros\n",
        "centimetros = metros * 10\n",
        "\n",
        "# Exibe o resultado da conversão\n",
        "print(f\"{metros} metros equivalem a {centimetros} centímetros\")"
      ],
      "metadata": {
        "colab": {
          "base_uri": "https://localhost:8080/"
        },
        "id": "Ij--KsZXX-ZV",
        "outputId": "af221e2e-3dd5-4661-ac36-0ea3951b31d3"
      },
      "execution_count": 7,
      "outputs": [
        {
          "output_type": "stream",
          "name": "stdout",
          "text": [
            "Digite a medida em metros: 170\n",
            "170.0 metros equivalem a 1700.0 centímetros\n"
          ]
        }
      ]
    },
    {
      "cell_type": "code",
      "source": [
        "import math\n",
        "\n",
        "# Solicita o raio do círculo\n",
        "raio = float(input(\"Digite o raio do círculo: \"))\n",
        "\n",
        "# Calcula a área do círculo\n",
        "area = math.pi * raio ** 2\n",
        "\n",
        "# Exibe o resultado\n",
        "print(f\"A área do círculo com raio {raio} é igual a {area:.2f}\")"
      ],
      "metadata": {
        "colab": {
          "base_uri": "https://localhost:8080/"
        },
        "id": "MeyvJRFMYaE8",
        "outputId": "d3ef3444-0eac-4dae-c874-60fe36b27ec2"
      },
      "execution_count": 8,
      "outputs": [
        {
          "output_type": "stream",
          "name": "stdout",
          "text": [
            "Digite o raio do círculo: 7\n",
            "A área do círculo com raio 7.0 é igual a 153.94\n"
          ]
        }
      ]
    },
    {
      "cell_type": "code",
      "source": [
        "# Solicita o comprimento de um lado do quadrado\n",
        "lado = float(input(\"Digite o comprimento de um lado do quadrado: \"))\n",
        "\n",
        "# Calcula a área do quadrado\n",
        "area = lado * lado\n",
        "\n",
        "# Calcula o dobro da área\n",
        "dobro_da_area = 2 * area\n",
        "\n",
        "# Exibe o resultado\n",
        "print(f\"A área do quadrado é {area} e o dobro da área é {dobro_da_area}\")"
      ],
      "metadata": {
        "colab": {
          "base_uri": "https://localhost:8080/"
        },
        "id": "nuhIViZzYry7",
        "outputId": "b531f512-0e62-4c8b-a911-96cbf53ae11e"
      },
      "execution_count": 9,
      "outputs": [
        {
          "output_type": "stream",
          "name": "stdout",
          "text": [
            "Digite o comprimento de um lado do quadrado: 10\n",
            "A área do quadrado é 100.0 e o dobro da área é 200.0\n"
          ]
        }
      ]
    },
    {
      "cell_type": "code",
      "source": [
        "# Solicita o valor da hora de trabalho e o número de horas trabalhadas no mês\n",
        "valor_por_hora = float(input(\"Digite o valor que você ganha por hora: \"))\n",
        "horas_trabalhadas = float(input(\"Digite o número de horas trabalhadas no mês: \"))\n",
        "\n",
        "# Calcula o total do salário no mês\n",
        "salario_mensal = valor_por_hora * horas_trabalhadas\n",
        "\n",
        "# Exibe o resultado\n",
        "print(f\"Seu salário no mês é de R$ {salario_mensal:.2f}\")"
      ],
      "metadata": {
        "colab": {
          "base_uri": "https://localhost:8080/"
        },
        "id": "Df37uqzmY3j6",
        "outputId": "49c9cf30-98c3-4068-f8c8-8b746348a7a2"
      },
      "execution_count": 10,
      "outputs": [
        {
          "output_type": "stream",
          "name": "stdout",
          "text": [
            "Digite o valor que você ganha por hora: 9\n",
            "Digite o número de horas trabalhadas no mês: 176\n",
            "Seu salário no mês é de R$ 1584.00\n"
          ]
        }
      ]
    },
    {
      "cell_type": "code",
      "source": [
        "# Solicita um valor ao usuário\n",
        "valor = float(input(\"Digite um valor: \"))\n",
        "\n",
        "# Verifica se o valor é positivo, negativo ou zero\n",
        "if valor > 0:\n",
        "    print(\"O valor é positivo.\")\n",
        "elif valor < 0:\n",
        "    print(\"O valor é negativo.\")\n",
        "else:\n",
        "    print(\"O valor é igual a zero.\")"
      ],
      "metadata": {
        "colab": {
          "base_uri": "https://localhost:8080/"
        },
        "id": "DhiTPyHwZinw",
        "outputId": "76ea303b-2213-46cc-c71c-35617337e0c7"
      },
      "execution_count": 11,
      "outputs": [
        {
          "output_type": "stream",
          "name": "stdout",
          "text": [
            "Digite um valor: 10\n",
            "O valor é positivo.\n"
          ]
        }
      ]
    },
    {
      "cell_type": "code",
      "source": [
        "# Solicita um valor ao usuário\n",
        "valor = float(input(\"Digite um valor: \"))\n",
        "\n",
        "# Verifica se o valor é positivo, negativo ou zero\n",
        "if valor > 0:\n",
        "    print(\"O valor é positivo.\")\n",
        "elif valor < 0:\n",
        "    print(\"O valor é negativo.\")\n",
        "else:\n",
        "    print(\"O valor é igual a zero.\")"
      ],
      "metadata": {
        "colab": {
          "base_uri": "https://localhost:8080/"
        },
        "id": "6Mhik9vGZsyn",
        "outputId": "96fcd218-2f97-40a0-c866-2a82d49c8f20"
      },
      "execution_count": 15,
      "outputs": [
        {
          "output_type": "stream",
          "name": "stdout",
          "text": [
            "Digite um valor: 10\n",
            "O valor é positivo.\n"
          ]
        }
      ]
    },
    {
      "cell_type": "code",
      "source": [
        "# Solicita uma letra ao usuário\n",
        "letra = input(\"Digite uma letra (F para Feminino, M para Masculino): \")\n",
        "\n",
        "# Verifica se a letra corresponde a um gênero\n",
        "if letra == \"F\" or letra == \"f\":\n",
        "    print(\"Feminino\")\n",
        "elif letra == \"M\" or letra == \"m\":\n",
        "    print(\"Masculino\")\n",
        "else:\n",
        "    print(\"Sexo Inválido\")\n"
      ],
      "metadata": {
        "colab": {
          "base_uri": "https://localhost:8080/"
        },
        "id": "XbtmZ5NSaB7e",
        "outputId": "a6482874-6e8b-43df-d9ce-f298340fa01f"
      },
      "execution_count": 17,
      "outputs": [
        {
          "output_type": "stream",
          "name": "stdout",
          "text": [
            "Digite uma letra (F para Feminino, M para Masculino): M\n",
            "Masculino\n"
          ]
        }
      ]
    }
  ]
}