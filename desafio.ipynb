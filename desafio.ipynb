{
  "nbformat": 4,
  "nbformat_minor": 0,
  "metadata": {
    "colab": {
      "provenance": [],
      "authorship_tag": "ABX9TyPUlMchZasQXKajRko/kHyD",
      "include_colab_link": true
    },
    "kernelspec": {
      "name": "python3",
      "display_name": "Python 3"
    },
    "language_info": {
      "name": "python"
    }
  },
  "cells": [
    {
      "cell_type": "markdown",
      "metadata": {
        "id": "view-in-github",
        "colab_type": "text"
      },
      "source": [
        "<a href=\"https://colab.research.google.com/github/mauriciocunhalus/estudos-pyton/blob/main/desafio.ipynb\" target=\"_parent\"><img src=\"https://colab.research.google.com/assets/colab-badge.svg\" alt=\"Open In Colab\"/></a>"
      ]
    },
    {
      "cell_type": "code",
      "execution_count": null,
      "metadata": {
        "id": "70mbwPn5BKb-"
      },
      "outputs": [],
      "source": [
        "# ETE CÍCERO DIAS\n",
        "# DOCENTE: MAURÍCIO CUNHA\n",
        "# ESTUDANTE: ...\n",
        "# PNT - TIPOS PRIMITIVOS DE DADOS\n",
        "#print('Olá mundo!')\n",
        "\n",
        "c = 9.9\n",
        "print(type(c))\n"
      ]
    },
    {
      "cell_type": "code",
      "source": [
        "# Solicita um número ao usuário\n",
        "numero = input(\"Digite um número: \")\n",
        "\n",
        "# Exibe a mensagem com o número informado\n",
        "print(f\"O número informado foi {numero}\")"
      ],
      "metadata": {
        "colab": {
          "base_uri": "https://localhost:8080/"
        },
        "id": "9xD_nKZTYHI0",
        "outputId": "58c769cd-c7c9-4d0a-f44b-15d1e7fd2b01"
      },
      "execution_count": null,
      "outputs": [
        {
          "output_type": "stream",
          "name": "stdout",
          "text": [
            "Digite um número: 9\n",
            "O número informado foi 9\n"
          ]
        }
      ]
    },
    {
      "cell_type": "code",
      "source": [
        "# Solicita dois números ao usuário\n",
        "numero1 = float(input(\"Digite o primeiro número: \"))\n",
        "numero2 = float(input(\"Digite o segundo número: \"))\n",
        "\n",
        "# Calcula a soma dos dois números\n",
        "soma = numero1 + numero2\n",
        "\n",
        "# Exibe o resultado da soma\n",
        "print(f\"A soma de {numero1} e {numero2} é igual a {soma}\")"
      ],
      "metadata": {
        "colab": {
          "base_uri": "https://localhost:8080/"
        },
        "id": "T4B2GhUQXrHn",
        "outputId": "3a43d276-1211-47a3-c53b-5875b1c27b19"
      },
      "execution_count": null,
      "outputs": [
        {
          "output_type": "stream",
          "name": "stdout",
          "text": [
            "Digite o primeiro número: 8\n",
            "Digite o segundo número: 5\n",
            "A soma de 8.0 e 5.0 é igual a 13.0\n"
          ]
        }
      ]
    },
    {
      "cell_type": "code",
      "source": [
        "# Solicita as notas bimestrais ao usuário\n",
        "nota1 = float(input(\"Digite a nota do 1º bimestre: \"))\n",
        "nota2 = float(input(\"Digite a nota do 2º bimestre: \"))\n",
        "nota3 = float(input(\"Digite a nota do 3º bimestre: \"))\n",
        "nota4 = float(input(\"Digite a nota do 4º bimestre: \"))\n",
        "\n",
        "# Calcula a média final\n",
        "media = (nota1 + nota2 + nota3 + nota4) / 4\n",
        "\n",
        "# Exibe a média final\n",
        "print(f\"A média final das notas é: {media}\")"
      ],
      "metadata": {
        "colab": {
          "base_uri": "https://localhost:8080/"
        },
        "id": "F9XOBh6OX7sN",
        "outputId": "d79d4496-08c3-4231-a9fa-ae07ab203a54"
      },
      "execution_count": null,
      "outputs": [
        {
          "output_type": "stream",
          "name": "stdout",
          "text": [
            "Digite a nota do 1º bimestre: 8\n",
            "Digite a nota do 2º bimestre: 1\n",
            "Digite a nota do 3º bimestre: 6\n",
            "Digite a nota do 4º bimestre: 9\n",
            "A média final das notas é: 6.0\n"
          ]
        }
      ]
    },
    {
      "cell_type": "code",
      "source": [
        "# Solicita a entrada em metros\n",
        "metros = float(input(\"Digite a medida em metros: \"))\n",
        "\n",
        "# Converte metros para centímetros\n",
        "centimetros = metros * 100\n",
        "\n",
        "# Exibe o resultado da conversão\n",
        "print(f\"{metros} metros equivalem a {centimetros} centímetros\")"
      ],
      "metadata": {
        "colab": {
          "base_uri": "https://localhost:8080/"
        },
        "id": "Ij--KsZXX-ZV",
        "outputId": "ae6f4f2c-6099-4e44-d687-ccfd62d59be6"
      },
      "execution_count": null,
      "outputs": [
        {
          "output_type": "stream",
          "name": "stdout",
          "text": [
            "Digite a medida em metros: 1\n",
            "1.0 metros equivalem a 100.0 centímetros\n"
          ]
        }
      ]
    },
    {
      "cell_type": "code",
      "source": [
        "import math\n",
        "\n",
        "# Solicita o raio do círculo\n",
        "raio = float(input(\"Digite o raio do círculo: \"))\n",
        "\n",
        "# Calcula a área do círculo\n",
        "area = math.pi * raio ** 2\n",
        "\n",
        "# Exibe o resultado\n",
        "print(f\"A área do círculo com raio {raio} é igual a {area:.2f}\")"
      ],
      "metadata": {
        "colab": {
          "base_uri": "https://localhost:8080/"
        },
        "id": "MeyvJRFMYaE8",
        "outputId": "0b0a3c1b-8e3d-4cd3-e7b6-c84eb9fc0b76"
      },
      "execution_count": null,
      "outputs": [
        {
          "output_type": "stream",
          "name": "stdout",
          "text": [
            "Digite o raio do círculo: 5\n",
            "A área do círculo com raio 5.0 é igual a 78.54\n"
          ]
        }
      ]
    },
    {
      "cell_type": "code",
      "source": [
        "# Solicita o comprimento de um lado do quadrado\n",
        "lado = float(input(\"Digite o comprimento de um lado do quadrado: \"))\n",
        "\n",
        "# Calcula a área do quadrado\n",
        "area = lado * lado\n",
        "\n",
        "# Calcula o dobro da área\n",
        "dobro_da_area = 2 * area\n",
        "\n",
        "# Exibe o resultado\n",
        "print(f\"A área do quadrado é {area} e o dobro da área é {dobro_da_area}\")"
      ],
      "metadata": {
        "colab": {
          "base_uri": "https://localhost:8080/"
        },
        "id": "nuhIViZzYry7",
        "outputId": "d9991a72-ef75-46c2-918f-8c823b904c51"
      },
      "execution_count": null,
      "outputs": [
        {
          "output_type": "stream",
          "name": "stdout",
          "text": [
            "Digite o comprimento de um lado do quadrado: 6\n",
            "A área do quadrado é 36.0 e o dobro da área é 72.0\n"
          ]
        }
      ]
    },
    {
      "cell_type": "code",
      "source": [
        "# Solicita o valor da hora de trabalho e o número de horas trabalhadas no mês\n",
        "valor_por_hora = float(input(\"Digite o valor que você ganha por hora: \"))\n",
        "horas_trabalhadas = float(input(\"Digite o número de horas trabalhadas no mês: \"))\n",
        "\n",
        "# Calcula o total do salário no mês\n",
        "salario_mensal = valor_por_hora * horas_trabalhadas\n",
        "\n",
        "# Exibe o resultado\n",
        "print(f\"Seu salário no mês é de R$ {salario_mensal:.2f}\")"
      ],
      "metadata": {
        "colab": {
          "base_uri": "https://localhost:8080/"
        },
        "id": "Df37uqzmY3j6",
        "outputId": "ceeeda28-2bc7-4a17-8444-271819f16e77"
      },
      "execution_count": null,
      "outputs": [
        {
          "output_type": "stream",
          "name": "stdout",
          "text": [
            "Digite o valor que você ganha por hora: 40.0\n",
            "Digite o número de horas trabalhadas no mês: 9.0\n",
            "Seu salário no mês é de R$ 360.00\n"
          ]
        }
      ]
    },
    {
      "cell_type": "code",
      "source": [
        "# Solicita um valor ao usuário\n",
        "valor = float(input(\"Digite um valor: \"))\n",
        "\n",
        "# Verifica se o valor é positivo, negativo ou zero\n",
        "if valor > 0:\n",
        "    print(\"O valor é positivo.\")\n",
        "elif valor < 0:\n",
        "    print(\"O valor é negativo.\")\n",
        "else:\n",
        "    print(\"O valor é igual a zero.\")"
      ],
      "metadata": {
        "colab": {
          "base_uri": "https://localhost:8080/"
        },
        "id": "DhiTPyHwZinw",
        "outputId": "7972cceb-e8e4-425e-bc10-b0522c385518"
      },
      "execution_count": null,
      "outputs": [
        {
          "output_type": "stream",
          "name": "stdout",
          "text": [
            "Digite um valor: -1\n",
            "O valor é negativo.\n"
          ]
        }
      ]
    },
    {
      "cell_type": "code",
      "source": [
        "# Solicita um valor ao usuário\n",
        "valor = float(input(\"Digite um valor: \"))\n",
        "\n",
        "# Verifica se o valor é positivo, negativo ou zero\n",
        "if valor > 0:\n",
        "    print(\"O valor é positivo.\")\n",
        "elif valor < 0:\n",
        "    print(\"O valor é negativo.\")\n",
        "else:\n",
        "    print(\"O valor é igual a zero.\")"
      ],
      "metadata": {
        "colab": {
          "base_uri": "https://localhost:8080/"
        },
        "id": "6Mhik9vGZsyn",
        "outputId": "8aaa0162-01d9-40e6-a26c-cb4e7d94cb5c"
      },
      "execution_count": null,
      "outputs": [
        {
          "output_type": "stream",
          "name": "stdout",
          "text": [
            "Digite um valor: 1\n",
            "O valor é positivo.\n"
          ]
        }
      ]
    },
    {
      "cell_type": "code",
      "source": [
        "# Solicita uma letra ao usuário\n",
        "letra = input(\"Digite uma letra (F para Feminino, M para Masculino): \")\n",
        "\n",
        "# Verifica se a letra corresponde a um gênero\n",
        "if letra == \"F\" or letra == \"f\":\n",
        "    print(\"Feminino\")\n",
        "elif letra == \"M\" or letra == \"m\":\n",
        "    print(\"Masculino\")\n",
        "else:\n",
        "    print(\"Sexo Inválido\")"
      ],
      "metadata": {
        "colab": {
          "base_uri": "https://localhost:8080/"
        },
        "id": "Wk0oIvRvZ6HX",
        "outputId": "d49fa92e-126d-42cf-86e1-8ab228fea0ef"
      },
      "execution_count": null,
      "outputs": [
        {
          "output_type": "stream",
          "name": "stdout",
          "text": [
            "Digite uma letra (F para Feminino, M para Masculino): m\n",
            "Masculino\n"
          ]
        }
      ]
    },
    {
      "cell_type": "code",
      "source": [
        "# Solicita uma letra ao usuário\n",
        "letra = input(\"Digite uma letra (F para Feminino, M para Masculino): \")\n",
        "\n",
        "# Verifica se a letra corresponde a um gênero\n",
        "if letra == \"F\" or letra == \"f\":\n",
        "    print(\"Feminino\")\n",
        "elif letra == \"M\" or letra == \"m\":\n",
        "    print(\"Masculino\")\n",
        "else:\n",
        "    print(\"Sexo Inválido\")\n"
      ],
      "metadata": {
        "colab": {
          "base_uri": "https://localhost:8080/"
        },
        "id": "XbtmZ5NSaB7e",
        "outputId": "50ec7508-2fc8-45d4-9fa3-270cab98fa0e"
      },
      "execution_count": null,
      "outputs": [
        {
          "output_type": "stream",
          "name": "stdout",
          "text": [
            "Digite uma letra (F para Feminino, M para Masculino): f\n",
            "Feminino\n"
          ]
        }
      ]
    }
  ]
}