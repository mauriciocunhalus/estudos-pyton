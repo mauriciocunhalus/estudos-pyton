{
  "nbformat": 4,
  "nbformat_minor": 0,
  "metadata": {
    "colab": {
      "provenance": [],
      "include_colab_link": true
    },
    "kernelspec": {
      "name": "python3",
      "display_name": "Python 3"
    },
    "language_info": {
      "name": "python"
    }
  },
  "cells": [
    {
      "cell_type": "markdown",
      "metadata": {
        "id": "view-in-github",
        "colab_type": "text"
      },
      "source": [
        "<a href=\"https://colab.research.google.com/github/mauriciocunhalus/estudos-pyton/blob/main/Untitled5.ipynb\" target=\"_parent\"><img src=\"https://colab.research.google.com/assets/colab-badge.svg\" alt=\"Open In Colab\"/></a>"
      ]
    },
    {
      "cell_type": "code",
      "source": [
        "# Oeradores Aritméticos\n",
        "\n",
        "c=10++1\n",
        "print(c)\n"
      ],
      "metadata": {
        "colab": {
          "base_uri": "https://localhost:8080/"
        },
        "id": "Eg5nqbXOEtoL",
        "outputId": "55d79aaf-8011-464d-93b2-034699b54a08"
      },
      "execution_count": null,
      "outputs": [
        {
          "output_type": "stream",
          "name": "stdout",
          "text": [
            "11\n"
          ]
        }
      ]
    },
    {
      "cell_type": "code",
      "source": [
        "c=10--1\n",
        "print(c)"
      ],
      "metadata": {
        "colab": {
          "base_uri": "https://localhost:8080/"
        },
        "id": "PbAGU7MNGljk",
        "outputId": "40133f3a-8861-45cf-ac38-6733e57b8337"
      },
      "execution_count": null,
      "outputs": [
        {
          "output_type": "stream",
          "name": "stdout",
          "text": [
            "11\n"
          ]
        }
      ]
    },
    {
      "cell_type": "code",
      "source": [
        "c=10//3\n",
        "print(c)"
      ],
      "metadata": {
        "colab": {
          "base_uri": "https://localhost:8080/"
        },
        "id": "_U40vKIVGyQK",
        "outputId": "128524ed-8bfa-48ea-fa3d-c34d2a4ed1b6"
      },
      "execution_count": null,
      "outputs": [
        {
          "output_type": "stream",
          "name": "stdout",
          "text": [
            "3\n"
          ]
        }
      ]
    },
    {
      "cell_type": "code",
      "source": [
        "c=10/3\n",
        "print(c)"
      ],
      "metadata": {
        "colab": {
          "base_uri": "https://localhost:8080/"
        },
        "id": "lGnW59V_G__i",
        "outputId": "8108f4ba-84d8-4650-ada2-5f4c64cbaa30"
      },
      "execution_count": null,
      "outputs": [
        {
          "output_type": "stream",
          "name": "stdout",
          "text": [
            "3.3333333333333335\n"
          ]
        }
      ]
    },
    {
      "cell_type": "code",
      "source": [
        "c=2**3\n",
        "print(c)"
      ],
      "metadata": {
        "colab": {
          "base_uri": "https://localhost:8080/"
        },
        "id": "8p6Z9wHHHF48",
        "outputId": "fb51c726-3318-413e-a796-106086dcfc75"
      },
      "execution_count": null,
      "outputs": [
        {
          "output_type": "stream",
          "name": "stdout",
          "text": [
            "8\n"
          ]
        }
      ]
    },
    {
      "cell_type": "code",
      "source": [
        "c=13%2\n",
        "print(c)"
      ],
      "metadata": {
        "colab": {
          "base_uri": "https://localhost:8080/"
        },
        "id": "nh3f2cObHNdz",
        "outputId": "fd7f92af-3486-4a27-ebfd-f079d5246d46"
      },
      "execution_count": null,
      "outputs": [
        {
          "output_type": "stream",
          "name": "stdout",
          "text": [
            "1\n"
          ]
        }
      ]
    },
    {
      "cell_type": "code",
      "source": [
        "# Operadores Relacionais Simples\n",
        "notaA=7\n",
        "notaB=5\n",
        "notaA>notaB\n",
        "print(\"VERDADEIRO\")"
      ],
      "metadata": {
        "colab": {
          "base_uri": "https://localhost:8080/"
        },
        "id": "5mn067RPHgGf",
        "outputId": "93475470-0349-4ca5-8f2d-523875474d31"
      },
      "execution_count": null,
      "outputs": [
        {
          "output_type": "stream",
          "name": "stdout",
          "text": [
            "VERDADEIRO\n"
          ]
        }
      ]
    },
    {
      "cell_type": "code",
      "source": [
        "notaA=10\n",
        "notaB=15\n",
        "notaA<notaB\n",
        "print(\"VERDADEIRO\")"
      ],
      "metadata": {
        "colab": {
          "base_uri": "https://localhost:8080/"
        },
        "id": "QetiPij_Kw46",
        "outputId": "861af43e-eb3f-41ac-fbbc-19c8f926dbb7"
      },
      "execution_count": null,
      "outputs": [
        {
          "output_type": "stream",
          "name": "stdout",
          "text": [
            "VERDADEIRO\n"
          ]
        }
      ]
    },
    {
      "cell_type": "code",
      "source": [
        "#Operadores Relacionais Compostos\n",
        "na=10\n",
        "nb=6\n",
        "nc=8\n",
        "nd=9\n",
        "na>=nb\n",
        "7>=6\n",
        "print('ESTUDANTE APROVADO!')\n",
        "7>=10\n",
        "a=10\n",
        "b=10\n",
        "a!=b"
      ],
      "metadata": {
        "colab": {
          "base_uri": "https://localhost:8080/"
        },
        "id": "1jnvok8aLaSJ",
        "outputId": "4d5a7ca4-9fc8-49d3-bbf1-e883320b3208"
      },
      "execution_count": null,
      "outputs": [
        {
          "output_type": "stream",
          "name": "stdout",
          "text": [
            "ESTUDANTE APROVADO!\n"
          ]
        },
        {
          "output_type": "execute_result",
          "data": {
            "text/plain": [
              "False"
            ]
          },
          "metadata": {},
          "execution_count": 22
        }
      ]
    },
    {
      "cell_type": "code",
      "source": [
        "nome=input('Digite seu nome:')\n",
        "print(f'Seu nome é {nome}')"
      ],
      "metadata": {
        "colab": {
          "base_uri": "https://localhost:8080/"
        },
        "id": "7gM4chqNM_zT",
        "outputId": "e3c86b77-defe-400a-c645-d8aa2371fe12"
      },
      "execution_count": null,
      "outputs": [
        {
          "output_type": "stream",
          "name": "stdout",
          "text": [
            "Digite seu nome:Jackeline\n",
            "Seu nome é Jackeline\n"
          ]
        }
      ]
    },
    {
      "cell_type": "code",
      "source": [
        "idade=int(input('Digite sua idade:'))\n",
        "print(f'Você tem {idade}anos e', 'meses')\n",
        "print(type(idade))"
      ],
      "metadata": {
        "colab": {
          "base_uri": "https://localhost:8080/"
        },
        "id": "ELzTgsqjN0Fz",
        "outputId": "b488b288-59d2-4aab-c0c3-aef8567f0a8c"
      },
      "execution_count": null,
      "outputs": [
        {
          "output_type": "stream",
          "name": "stdout",
          "text": [
            "Digite sua idade:46\n",
            "Você tem 46anos e meses\n",
            "<class 'int'>\n"
          ]
        }
      ]
    },
    {
      "cell_type": "code",
      "source": [
        "peso=float(input('Digite seu peso:'))\n",
        "print(f'Você pesa {peso} kgs,')\n",
        "print(type(peso))\n",
        "\n"
      ],
      "metadata": {
        "colab": {
          "base_uri": "https://localhost:8080/"
        },
        "id": "s5m8e55VPWnr",
        "outputId": "34862ddb-23b9-42fc-e41b-94e2806d7a39"
      },
      "execution_count": null,
      "outputs": [
        {
          "output_type": "stream",
          "name": "stdout",
          "text": [
            "Digite seu peso:60\n",
            "Você pesa 60.0 kgs,\n",
            "<class 'float'>\n"
          ]
        }
      ]
    }
  ]
}